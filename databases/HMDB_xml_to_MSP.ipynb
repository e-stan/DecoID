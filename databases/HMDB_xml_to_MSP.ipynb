{
 "cells": [
  {
   "cell_type": "code",
   "execution_count": 1,
   "metadata": {},
   "outputs": [],
   "source": [
    "import xml.etree.ElementTree as ET\n",
    "import os\n",
    "import matplotlib.pyplot as plt\n",
    "import pickle as pkl\n",
    "import numpy as np"
   ]
  },
  {
   "cell_type": "code",
   "execution_count": 2,
   "metadata": {},
   "outputs": [],
   "source": [
    "from os import listdir\n",
    "outfilename = \"HMDB_predicted.msp\"\n",
    "metaboliteInfo = pkl.load(open(\"hmdbIDToInchi.pkl\",\"rb\"))"
   ]
  },
  {
   "cell_type": "code",
   "execution_count": 17,
   "metadata": {},
   "outputs": [
    {
     "name": "stdout",
     "output_type": "stream",
     "text": [
      "435397\n"
     ]
    }
   ],
   "source": [
    "outfile = open(outfilename,\"w\")\n",
    "addedDates = []\n",
    "good = 0 \n",
    "for f in listdir(\"hmdb_predicted_msms_spectra\"):\n",
    "    if \".xml\" in f:\n",
    "        try:\n",
    "            xmlData = [x.rstrip() for x in open(\"hmdb_predicted_msms_spectra/\"+f,\"r\").readlines()]\n",
    "            mzs = [float(x.split(\"<\")[1].split(\">\")[1]) for x in xmlData if \"mass-charge\" in x]\n",
    "            intens = [float(x.split(\"<\")[1].split(\">\")[1]) for x in xmlData if \"intensity\" in x]\n",
    "            spec = [[mz,i] for mz,i in zip(mzs,intens)]\n",
    "            databaseID = [x.split(\">\")[1].split(\"<\")[0] for x in xmlData if \"database-id\" in x and \"HMDB\" in x][0]\n",
    "            ty = [x.split(\">\")[1].split(\"<\")[0] for x in xmlData if \"instrument-type\" in x][0]\n",
    "            spectraType = [x.split(\">\")[1].split(\"<\")[0] for x in xmlData if \"spectra-type\" in x][0]\n",
    "            ionizationMode = [x for x in xmlData if \"ionization-mode\" in x][0]\n",
    "            if \"ositive\" in ionizationMode:\n",
    "                ionizationMode = \"P\"\n",
    "            elif \"egative\" in ionizationMode:\n",
    "                ionizationMode = \"N\"\n",
    "            if not(\"GC\" in ty or \"EI\" in ty):  \n",
    "                name,inchi,mass,formula = metaboliteInfo[databaseID]\n",
    "                mass = float(mass)\n",
    "                if ionizationMode == \"P\":\n",
    "                    mzOI = mass + 1.0073\n",
    "                else:\n",
    "                    mzOI = mass - 1.0073\n",
    "                spec.sort(key=lambda x: x[0])\n",
    "                maxInt = max([x[1] for x in spec])\n",
    "                spec = [[str(x), str(y / maxInt)] for x, y in spec]\n",
    "                outfile.write(\"Name: \" + name + \"\\nSynon: $:00in-source\")\n",
    "                outfile.write(\"\\nDB#: \"+ databaseID)\n",
    "                outfile.write(\"\\nInChiKey: \" + inchi)\n",
    "                #outfile.write(\"\\nPrecursor_type: \" + adduct)\n",
    "                outfile.write(\"\\nSpectrum_type: MS2\")\n",
    "                outfile.write(\"\\nPrecursorMZ: \" + str(mzOI))\n",
    "                # outfile.write(\"\\nInstrument_type: \" + instrumentType)\n",
    "                outfile.write(\"\\nInstrument: \" + ty)\n",
    "                outfile.write(\"\\nIon_mode: \" + ionizationMode)\n",
    "                # outfile.write(\"\\nIon_mode:\"+polarity[0])\n",
    "                #outfile.write(\"\\nCollision_energy: \" + fragmentMode + \" (NCE \" + str(c) + \"%)\")\n",
    "                #outfile.write(\"\\nRetentionTime: \" + str(metInfo[\"RT\"]))\n",
    "                outfile.write(\"\\nFormula: \" + formula)\n",
    "                outfile.write(\"\\nMW: \" + str(np.round(mass, 0)))\n",
    "                outfile.write(\"\\nExactMass: \" + str(mass))\n",
    "                # outfile.write('\\nComments: \"\"')\n",
    "                outfile.write(\"\\nNum Peaks: \" + str(len(spec)))\n",
    "                for f, i in spec:\n",
    "                    outfile.write(\"\\n\" + f + \" \" + i)\n",
    "                outfile.write(\"\\n\\n\\n\")\n",
    "                good += 1\n",
    "\n",
    "        except:\n",
    "          pass\n",
    "print(good)\n",
    "outfile.close()"
   ]
  },
  {
   "cell_type": "code",
   "execution_count": 4,
   "metadata": {},
   "outputs": [],
   "source": [
    "keys = list(metaboliteInfo.keys())\n"
   ]
  },
  {
   "cell_type": "code",
   "execution_count": 6,
   "metadata": {},
   "outputs": [
    {
     "name": "stdout",
     "output_type": "stream",
     "text": [
      "HMDB0000001 ['1-Methylhistidine', 'BRMWTNUJHUMWMS-LURJTMIESA-N', 169.085126611, 'C7H11N3O2']\n"
     ]
    },
    {
     "data": {
      "text/plain": [
       "[None]"
      ]
     },
     "execution_count": 6,
     "metadata": {},
     "output_type": "execute_result"
    }
   ],
   "source": [
    "[print(k,metaboliteInfo[k]) for k in keys[:1]]"
   ]
  },
  {
   "cell_type": "code",
   "execution_count": null,
   "metadata": {},
   "outputs": [],
   "source": []
  }
 ],
 "metadata": {
  "kernelspec": {
   "display_name": "Python 3",
   "language": "python",
   "name": "python3"
  },
  "language_info": {
   "codemirror_mode": {
    "name": "ipython",
    "version": 3
   },
   "file_extension": ".py",
   "mimetype": "text/x-python",
   "name": "python",
   "nbconvert_exporter": "python",
   "pygments_lexer": "ipython3",
   "version": "3.7.6"
  },
  "pycharm": {
   "stem_cell": {
    "cell_type": "raw",
    "source": [],
    "metadata": {
     "collapsed": false
    }
   }
  }
 },
 "nbformat": 4,
 "nbformat_minor": 2
}